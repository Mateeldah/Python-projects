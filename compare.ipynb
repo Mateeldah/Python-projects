{
 "cells": [
  {
   "cell_type": "code",
   "execution_count": 1,
   "id": "537743ed-bd68-46ec-bb17-9ae6645e28fc",
   "metadata": {},
   "outputs": [
    {
     "data": {
      "application/vnd.jupyter.widget-view+json": {
       "model_id": "14f4d864bb114a748be66cfe9978a2db",
       "version_major": 2,
       "version_minor": 0
      },
      "text/plain": [
       "                                             |                                             | [  0%]   00:00 ->…"
      ]
     },
     "metadata": {},
     "output_type": "display_data"
    },
    {
     "name": "stdout",
     "output_type": "stream",
     "text": [
      "Report cars.html was generated! NOTEBOOK/COLAB USERS: the web browser MAY not pop up, regardless, the report IS saved in your notebook/colab files.\n"
     ]
    }
   ],
   "source": [
    "import sweetviz as sv\n",
    "import pandas as pd\n",
    "cars=pd.read_csv('mtcars.csv')\n",
    "cars_report = sv.analyze(cars)\n",
    "cars_report.show_html('cars.html')"
   ]
  },
  {
   "cell_type": "code",
   "execution_count": 2,
   "id": "0f52a3eb-b22a-47d3-9de8-1fb6743b5169",
   "metadata": {},
   "outputs": [
    {
     "data": {
      "application/vnd.jupyter.widget-view+json": {
       "model_id": "5da59f92f1e5416ea7099bab6fd6a1c6",
       "version_major": 2,
       "version_minor": 0
      },
      "text/plain": [
       "                                             |                                             | [  0%]   00:00 ->…"
      ]
     },
     "metadata": {},
     "output_type": "display_data"
    },
    {
     "name": "stdout",
     "output_type": "stream",
     "text": [
      "Report Report.html was generated! NOTEBOOK/COLAB USERS: the web browser MAY not pop up, regardless, the report IS saved in your notebook/colab files.\n"
     ]
    }
   ],
   "source": [
    "train=pd.read_csv('train.csv')\n",
    "test=pd.read_csv('test0.csv')\n",
    "features=sv.FeatureConfig(skip=[\"PassengerId\",\"Name\"],force_cat=[\"Ticket\",\"Pclass\"])\n",
    "my_report=sv.compare([train,\"Train\"],[test,\"Test\"],\"Survived\",features)\n",
    "my_report.show_html(\"Report.html\")"
   ]
  },
  {
   "cell_type": "code",
   "execution_count": 4,
   "id": "1c170ea2-6fb3-496a-8ef4-35e7754f4cde",
   "metadata": {},
   "outputs": [
    {
     "data": {
      "application/vnd.jupyter.widget-view+json": {
       "model_id": "755ab57b345a4974ba65229c77739c0f",
       "version_major": 2,
       "version_minor": 0
      },
      "text/plain": [
       "                                             |                                             | [  0%]   00:00 ->…"
      ]
     },
     "metadata": {},
     "output_type": "display_data"
    },
    {
     "name": "stdout",
     "output_type": "stream",
     "text": [
      "Report Report.html was generated! NOTEBOOK/COLAB USERS: the web browser MAY not pop up, regardless, the report IS saved in your notebook/colab files.\n"
     ]
    }
   ],
   "source": [
    "my_report=sv.compare_intra(train,train[\"Sex\"]=='female',(\"Male\",\"Female\"),\"Survived\",features)\n",
    "my_report.show_html(\"Report.html\")\n",
    "                           "
   ]
  },
  {
   "cell_type": "code",
   "execution_count": null,
   "id": "fb52d884-d372-4746-9e9c-5acc64df2ff0",
   "metadata": {},
   "outputs": [],
   "source": []
  }
 ],
 "metadata": {
  "kernelspec": {
   "display_name": "Python 3 (ipykernel)",
   "language": "python",
   "name": "python3"
  },
  "language_info": {
   "codemirror_mode": {
    "name": "ipython",
    "version": 3
   },
   "file_extension": ".py",
   "mimetype": "text/x-python",
   "name": "python",
   "nbconvert_exporter": "python",
   "pygments_lexer": "ipython3",
   "version": "3.12.7"
  }
 },
 "nbformat": 4,
 "nbformat_minor": 5
}
